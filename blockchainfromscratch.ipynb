{
 "cells": [
  {
   "cell_type": "markdown",
   "metadata": {},
   "source": [
    "# **Blockchain Technology and Application**\n",
    "\n",
    "### **Name** :- Murtaza Bohari\n",
    "\n",
    "### **PRN** :- 20190802052\n",
    "\n",
    "### **AIM** :- Build a Blockchain in Python from scratch."
   ]
  },
  {
   "cell_type": "code",
   "execution_count": 1,
   "metadata": {},
   "outputs": [],
   "source": [
    "import hashlib\n",
    "import json\n",
    "from time import time"
   ]
  },
  {
   "cell_type": "markdown",
   "metadata": {},
   "source": [
    "Importing necessary modules"
   ]
  },
  {
   "cell_type": "code",
   "execution_count": 4,
   "metadata": {},
   "outputs": [],
   "source": [
    "class Blockchain(object):\n",
    "    def __init__(self):\n",
    "        self.chain = []\n",
    "        self.pending_transactions = []\n",
    "\n",
    "        self.new_block(previous_hash=\"{Perfectly balanced as everything should be}\",\n",
    "                       proof=100)\n",
    "\n",
    "    # Create a new block listing key/value pairs of block information in a JSON object. Reset the list of pending transactions & append the newest block to the chain.\n",
    "\n",
    "    def new_block(self, proof, previous_hash=None):\n",
    "        block = {\n",
    "            'index': len(self.chain) + 1,\n",
    "            'timestamp': time(),\n",
    "            'transactions': self.pending_transactions,\n",
    "            'proof': proof,\n",
    "            'previous_hash': previous_hash or self.hash(self.chain[-1]),\n",
    "        }\n",
    "        self.pending_transactions = []\n",
    "        self.chain.append(block)\n",
    "\n",
    "        return block\n",
    "\n",
    "    # Search the blockchain for the most recent block.\n",
    "\n",
    "    @property\n",
    "    def last_block(self):\n",
    "        return self.chain[-1]\n",
    "\n",
    "    # Add a transaction with relevant info to the 'blockpool' - list of pending tx's.\n",
    "\n",
    "    def new_transaction(self, sender, recipient, amount):\n",
    "        transaction = {\n",
    "            'sender': sender,\n",
    "            'recipient': recipient,\n",
    "            'amount': amount\n",
    "        }\n",
    "        self.pending_transactions.append(transaction)\n",
    "        return self.last_block['index'] + 1\n",
    "\n",
    "    # receive one block. Turn it into a string, turn that into Unicode (for hashing). Hash with SHA256 encryption, then translate the Unicode into a hexidecimal string.\n",
    "\n",
    "    def hash(self, block):\n",
    "        string_object = json.dumps(block, sort_keys=True)\n",
    "        block_string = string_object.encode()\n",
    "\n",
    "        raw_hash = hashlib.sha256(block_string)\n",
    "        hex_hash = raw_hash.hexdigest()\n",
    "\n",
    "        return hex_hash\n"
   ]
  },
  {
   "cell_type": "code",
   "execution_count": 5,
   "metadata": {},
   "outputs": [
    {
     "name": "stdout",
     "output_type": "stream",
     "text": [
      "Genesis block:  [{'index': 1, 'timestamp': 1665234397.6655354, 'transactions': [], 'proof': 100, 'previous_hash': '{Perfectly balanced as everything should be}'}, {'index': 2, 'timestamp': 1665234397.6655354, 'transactions': [{'sender': 'Satoshi', 'recipient': 'Mike', 'amount': '5 BTC'}, {'sender': 'Mike', 'recipient': 'Satoshi', 'amount': '1 BTC'}, {'sender': 'Satoshi', 'recipient': 'Hal Finney', 'amount': '5 BTC'}], 'proof': 12345, 'previous_hash': '54480abfab9cb70b9f47c6f8397a4cd6b6822fe70ec6e8d9486d14934f9bdfbf'}, {'index': 3, 'timestamp': 1665234397.6655354, 'transactions': [{'sender': 'Mike', 'recipient': 'Alice', 'amount': '1 BTC'}, {'sender': 'Alice', 'recipient': 'Bob', 'amount': '0.5 BTC'}, {'sender': 'Bob', 'recipient': 'Mike', 'amount': '0.5 BTC'}], 'proof': 6789, 'previous_hash': '5c16a18e78103f313e27dba57c13af90f6432035f202aacfb62424b3f9bc5960'}]\n"
     ]
    }
   ],
   "source": [
    "blockchain = Blockchain()\n",
    "t1 = blockchain.new_transaction(\"Satoshi\", \"Mike\", '5 BTC')\n",
    "t2 = blockchain.new_transaction(\"Mike\", \"Satoshi\", '1 BTC')\n",
    "t3 = blockchain.new_transaction(\"Satoshi\", \"Hal Finney\", '5 BTC')\n",
    "blockchain.new_block(12345)\n",
    "\n",
    "t4 = blockchain.new_transaction(\"Mike\", \"Alice\", '1 BTC')\n",
    "t5 = blockchain.new_transaction(\"Alice\", \"Bob\", '0.5 BTC')\n",
    "t6 = blockchain.new_transaction(\"Bob\", \"Mike\", '0.5 BTC')\n",
    "blockchain.new_block(6789)\n",
    "\n",
    "print(\"Genesis block: \", blockchain.chain)"
   ]
  }
 ],
 "metadata": {
  "kernelspec": {
   "display_name": "Python 3.10.5 64-bit",
   "language": "python",
   "name": "python3"
  },
  "language_info": {
   "codemirror_mode": {
    "name": "ipython",
    "version": 3
   },
   "file_extension": ".py",
   "mimetype": "text/x-python",
   "name": "python",
   "nbconvert_exporter": "python",
   "pygments_lexer": "ipython3",
   "version": "3.10.5"
  },
  "orig_nbformat": 4,
  "vscode": {
   "interpreter": {
    "hash": "369f2c481f4da34e4445cda3fffd2e751bd1c4d706f27375911949ba6bb62e1c"
   }
  }
 },
 "nbformat": 4,
 "nbformat_minor": 2
}
